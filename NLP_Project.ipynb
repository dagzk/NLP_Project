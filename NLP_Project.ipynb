{
 "cells": [
  {
   "cell_type": "markdown",
   "metadata": {},
   "source": [
    "# NLP PROJECT\n",
    "\n",
    "### Problem Statement:\n",
    "\n",
    "As an avid reader, I get many recommendations from my circle regarding which books I should read next. Having heard different opinions of Nassim Nicholas Taleb, I decided to use NLP to get a feeling based of people's reviews concerning his Incerto (consisting of 5 books) and possibly the topics within. I will divide this project into multiple Notebooks to make it easier to read.\n",
    "\n",
    "### What This Project Shows:\n",
    "\n",
    "1. Web scraping book reviews on goodreads.com\n",
    "2. Exploratory Data Analysis\n",
    "3. Exploring Sentimental Analysis and Topic Modelling NLP techniques\n",
    "4. Conclusion based on analysis\n",
    "\n",
    "Link for the  website: http://goodreads.com/\n",
    "\n",
    "## Notebook 1: Web Scraping + Data Cleaning + Organizing:\n",
    "\n",
    "The output of this notebook will have clean, organized data in two standard text formats:\n",
    "\n",
    "1. **Corpus** - a collection of text\n",
    "2. **Document-Term Matrix** - word counts in matrix format\n",
    "\n",
    "### I. Web Scraping:"
   ]
  },
  {
   "cell_type": "code",
   "execution_count": 24,
   "metadata": {
    "ExecuteTime": {
     "end_time": "2020-09-02T17:33:37.600171Z",
     "start_time": "2020-09-02T17:33:37.595745Z"
    }
   },
   "outputs": [],
   "source": [
    "# Import libraries:\n",
    "import urllib3\n",
    "from bs4 import BeautifulSoup\n",
    "import requests\n",
    "import re\n",
    "import numpy as np\n",
    "import pandas as pd\n",
    "import matplotlib.pyplot as plt\n",
    "import seaborn as sns\n",
    "import pickle"
   ]
  },
  {
   "cell_type": "code",
   "execution_count": 26,
   "metadata": {
    "ExecuteTime": {
     "end_time": "2020-09-02T17:35:02.522040Z",
     "start_time": "2020-09-02T17:35:01.591530Z"
    }
   },
   "outputs": [
    {
     "name": "stdout",
     "output_type": "stream",
     "text": [
      "status code for page: 200\n"
     ]
    }
   ],
   "source": [
    "# Print the status of the website (200 Yes ; 404 No):\n",
    "result = requests.get(\"https://www.goodreads.com/\")\n",
    "print(\"status code for page: \" + str(result.status_code))"
   ]
  },
  {
   "cell_type": "code",
   "execution_count": 11,
   "metadata": {
    "ExecuteTime": {
     "end_time": "2020-09-02T17:27:45.727545Z",
     "start_time": "2020-09-02T17:27:45.721908Z"
    }
   },
   "outputs": [],
   "source": [
    "# Scrapes reviews data from goodreads.com\n",
    "def url_to_reviews(url):\n",
    "    '''Returns review data specifically from goodreads.com.'''\n",
    "    page = requests.get(url).text\n",
    "    soup = BeautifulSoup(page, \"lxml\")\n",
    "    text = [p.text for p in soup.find(class_=\"reviewText stacked\").find_all('')]\n",
    "    print(url)\n",
    "    return text\n",
    "\n",
    "# URLs of books in scope\n",
    "urls = ['https://www.goodreads.com/book/show/38315.Fooled_by_Randomness?from_search=true&from_srp=true&qid=q1xYfzijc6&rank=2',\n",
    "        'https://www.goodreads.com/book/show/242472.The_Black_Swan?from_search=true&from_srp=true&qid=q1xYfzijc6&rank=1',\n",
    "        'https://www.goodreads.com/book/show/9402297-the-bed-of-procrustes?from_search=true&from_srp=true&qid=q1xYfzijc6&rank=5',\n",
    "        'https://www.goodreads.com/book/show/13530973-antifragile?from_search=true&from_srp=true&qid=q1xYfzijc6&rank=3',\n",
    "        'https://www.goodreads.com/book/show/36064445-skin-in-the-game?from_search=true&from_srp=true&qid=q1xYfzijc6&rank=4']\n",
    "\n",
    "# Book names\n",
    "books = ['FbR', 'TBS', 'BoP', 'AF', 'SitG']"
   ]
  },
  {
   "cell_type": "code",
   "execution_count": 12,
   "metadata": {
    "ExecuteTime": {
     "end_time": "2020-09-02T17:28:06.856592Z",
     "start_time": "2020-09-02T17:27:49.359960Z"
    }
   },
   "outputs": [
    {
     "name": "stdout",
     "output_type": "stream",
     "text": [
      "https://www.goodreads.com/book/show/38315.Fooled_by_Randomness?from_search=true&from_srp=true&qid=q1xYfzijc6&rank=2\n",
      "https://www.goodreads.com/book/show/242472.The_Black_Swan?from_search=true&from_srp=true&qid=q1xYfzijc6&rank=1\n",
      "https://www.goodreads.com/book/show/9402297-the-bed-of-procrustes?from_search=true&from_srp=true&qid=q1xYfzijc6&rank=5\n",
      "https://www.goodreads.com/book/show/13530973-antifragile?from_search=true&from_srp=true&qid=q1xYfzijc6&rank=3\n",
      "https://www.goodreads.com/book/show/36064445-skin-in-the-game?from_search=true&from_srp=true&qid=q1xYfzijc6&rank=4\n"
     ]
    }
   ],
   "source": [
    "# Actually request transcripts (takes a few minutes to run)\n",
    "reviews = [url_to_reviews(u) for u in urls]"
   ]
  },
  {
   "cell_type": "code",
   "execution_count": 16,
   "metadata": {
    "ExecuteTime": {
     "end_time": "2020-09-02T17:29:22.950589Z",
     "start_time": "2020-09-02T17:29:22.811951Z"
    }
   },
   "outputs": [
    {
     "name": "stdout",
     "output_type": "stream",
     "text": [
      "mkdir: transcripts: File exists\r\n"
     ]
    }
   ],
   "source": [
    "# Pickle files for later use\n",
    "\n",
    "# Make a new directory to hold the text files\n",
    "!mkdir transcripts\n",
    "\n",
    "for i, c in enumerate(books):\n",
    "    with open(\"reviews/\" + c + \".txt\", \"wb\") as file:\n",
    "        pickle.dump(reviews[i], file)"
   ]
  },
  {
   "cell_type": "code",
   "execution_count": 19,
   "metadata": {
    "ExecuteTime": {
     "end_time": "2020-09-02T17:29:49.940660Z",
     "start_time": "2020-09-02T17:29:49.934075Z"
    }
   },
   "outputs": [],
   "source": [
    "# Load pickled files\n",
    "data = {}\n",
    "for i, c in enumerate(books):\n",
    "    with open(\"transcripts/\" + c + \".txt\", \"rb\") as file:\n",
    "        data[c] = pickle.load(file)"
   ]
  },
  {
   "cell_type": "code",
   "execution_count": 20,
   "metadata": {
    "ExecuteTime": {
     "end_time": "2020-09-02T17:30:03.322683Z",
     "start_time": "2020-09-02T17:30:03.312127Z"
    }
   },
   "outputs": [
    {
     "data": {
      "text/plain": [
       "dict_keys(['FbR', 'TBS', 'BoP', 'AF', 'SitG'])"
      ]
     },
     "execution_count": 20,
     "metadata": {},
     "output_type": "execute_result"
    }
   ],
   "source": [
    "# Double check to make sure data has been loaded properly\n",
    "data.keys()"
   ]
  },
  {
   "cell_type": "code",
   "execution_count": 27,
   "metadata": {
    "ExecuteTime": {
     "end_time": "2020-09-02T17:39:58.172941Z",
     "start_time": "2020-09-02T17:39:58.167580Z"
    }
   },
   "outputs": [
    {
     "data": {
      "text/plain": [
       "[]"
      ]
     },
     "execution_count": 27,
     "metadata": {},
     "output_type": "execute_result"
    }
   ],
   "source": [
    "# More checks\n",
    "data['FbR']"
   ]
  },
  {
   "cell_type": "code",
   "execution_count": 3,
   "metadata": {},
   "outputs": [],
   "source": []
  },
  {
   "cell_type": "code",
   "execution_count": null,
   "metadata": {},
   "outputs": [],
   "source": []
  },
  {
   "cell_type": "markdown",
   "metadata": {},
   "source": [
    "### II. Cleaning Data:"
   ]
  },
  {
   "cell_type": "code",
   "execution_count": null,
   "metadata": {},
   "outputs": [],
   "source": []
  },
  {
   "cell_type": "code",
   "execution_count": null,
   "metadata": {},
   "outputs": [],
   "source": []
  },
  {
   "cell_type": "markdown",
   "metadata": {},
   "source": [
    "### III. Organizing Data:"
   ]
  },
  {
   "cell_type": "code",
   "execution_count": null,
   "metadata": {},
   "outputs": [],
   "source": []
  },
  {
   "cell_type": "code",
   "execution_count": null,
   "metadata": {},
   "outputs": [],
   "source": []
  },
  {
   "cell_type": "markdown",
   "metadata": {},
   "source": []
  }
 ],
 "metadata": {
  "hide_input": false,
  "kernelspec": {
   "display_name": "Python 3",
   "language": "python",
   "name": "python3"
  },
  "language_info": {
   "codemirror_mode": {
    "name": "ipython",
    "version": 3
   },
   "file_extension": ".py",
   "mimetype": "text/x-python",
   "name": "python",
   "nbconvert_exporter": "python",
   "pygments_lexer": "ipython3",
   "version": "3.7.3"
  },
  "varInspector": {
   "cols": {
    "lenName": 16,
    "lenType": 16,
    "lenVar": 40
   },
   "kernels_config": {
    "python": {
     "delete_cmd_postfix": "",
     "delete_cmd_prefix": "del ",
     "library": "var_list.py",
     "varRefreshCmd": "print(var_dic_list())"
    },
    "r": {
     "delete_cmd_postfix": ") ",
     "delete_cmd_prefix": "rm(",
     "library": "var_list.r",
     "varRefreshCmd": "cat(var_dic_list()) "
    }
   },
   "types_to_exclude": [
    "module",
    "function",
    "builtin_function_or_method",
    "instance",
    "_Feature"
   ],
   "window_display": false
  }
 },
 "nbformat": 4,
 "nbformat_minor": 2
}
