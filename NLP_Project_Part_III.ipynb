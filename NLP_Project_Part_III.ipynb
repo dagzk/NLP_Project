{
 "cells": [
  {
   "cell_type": "markdown",
   "metadata": {},
   "source": [
    "# NLP PROJECT\n",
    "\n",
    "## Notebook III: Sentimental Analysis:\n",
    "\n",
    "\n",
    "- Input: **Corpus** - We're using the corpus because order matters.\n",
    "- NLP Library: **TextBlob (based on nltk)** - We use rules-based sentiment scores.\n",
    "- Output: **Sentiment Score** - For each book's entire reviews (30 per book), we'll get a sentiment score (how positive/negative) and a subjectivity score (how opinionated)\n",
    "   * **Polarity**: How positive or negative a word is. -1 is very negative. +1 is very positive.\n",
    "   * **Subjectivity**: How subjective, or opinionated a word is. 0 is fact. +1 is very much an opinion.\n",
    "\n",
    "### Sentiment of Reviews:"
   ]
  },
  {
   "cell_type": "code",
   "execution_count": 1,
   "metadata": {
    "ExecuteTime": {
     "end_time": "2020-09-10T21:40:07.439835Z",
     "start_time": "2020-09-10T21:40:06.837446Z"
    }
   },
   "outputs": [
    {
     "data": {
      "text/html": [
       "<div>\n",
       "<style scoped>\n",
       "    .dataframe tbody tr th:only-of-type {\n",
       "        vertical-align: middle;\n",
       "    }\n",
       "\n",
       "    .dataframe tbody tr th {\n",
       "        vertical-align: top;\n",
       "    }\n",
       "\n",
       "    .dataframe thead th {\n",
       "        text-align: right;\n",
       "    }\n",
       "</style>\n",
       "<table border=\"1\" class=\"dataframe\">\n",
       "  <thead>\n",
       "    <tr style=\"text-align: right;\">\n",
       "      <th></th>\n",
       "      <th>reviews</th>\n",
       "      <th>Book Name</th>\n",
       "    </tr>\n",
       "  </thead>\n",
       "  <tbody>\n",
       "    <tr>\n",
       "      <th>AF</th>\n",
       "      <td>\\n\\nTaleb seems constitutionally angry, dismis...</td>\n",
       "      <td>Antifragile</td>\n",
       "    </tr>\n",
       "    <tr>\n",
       "      <th>BoP</th>\n",
       "      <td>\\n\\nAphorisms Galore!If for any literary fan, ...</td>\n",
       "      <td>Bed of Procrustes</td>\n",
       "    </tr>\n",
       "    <tr>\n",
       "      <th>FbR</th>\n",
       "      <td>\\n\\nYeah, you see. I’ve just checked and most ...</td>\n",
       "      <td>Fooled by Randomness</td>\n",
       "    </tr>\n",
       "    <tr>\n",
       "      <th>SitG</th>\n",
       "      <td>\\n\\nSkin in the Game is at the same time thoug...</td>\n",
       "      <td>Skin in the Game</td>\n",
       "    </tr>\n",
       "    <tr>\n",
       "      <th>TBS</th>\n",
       "      <td>\\n\\nThis is a book that raises a number of ver...</td>\n",
       "      <td>The Black Swan</td>\n",
       "    </tr>\n",
       "  </tbody>\n",
       "</table>\n",
       "</div>"
      ],
      "text/plain": [
       "                                                reviews             Book Name\n",
       "AF    \\n\\nTaleb seems constitutionally angry, dismis...           Antifragile\n",
       "BoP   \\n\\nAphorisms Galore!If for any literary fan, ...     Bed of Procrustes\n",
       "FbR   \\n\\nYeah, you see. I’ve just checked and most ...  Fooled by Randomness\n",
       "SitG  \\n\\nSkin in the Game is at the same time thoug...      Skin in the Game\n",
       "TBS   \\n\\nThis is a book that raises a number of ver...        The Black Swan"
      ]
     },
     "execution_count": 1,
     "metadata": {},
     "output_type": "execute_result"
    }
   ],
   "source": [
    "# We'll start by reading in the corpus, which preserves word order\n",
    "import pandas as pd\n",
    "\n",
    "# Standard plotly imports\n",
    "# import plotly.plotly as py\n",
    "# import plotly.graph_objs as go\n",
    "# from plotly.offline import iplot, init_notebook_mode\n",
    "# # Using plotly + cufflinks in offline mode\n",
    "# import cufflinks\n",
    "# cufflinks.go_offline(connected=True)\n",
    "# init_notebook_mode(connected=True)\n",
    "\n",
    "data = pd.read_pickle('corpus.pkl')\n",
    "data"
   ]
  },
  {
   "cell_type": "code",
   "execution_count": 2,
   "metadata": {
    "ExecuteTime": {
     "end_time": "2020-09-10T21:40:09.080082Z",
     "start_time": "2020-09-10T21:40:07.442823Z"
    }
   },
   "outputs": [
    {
     "data": {
      "text/html": [
       "<div>\n",
       "<style scoped>\n",
       "    .dataframe tbody tr th:only-of-type {\n",
       "        vertical-align: middle;\n",
       "    }\n",
       "\n",
       "    .dataframe tbody tr th {\n",
       "        vertical-align: top;\n",
       "    }\n",
       "\n",
       "    .dataframe thead th {\n",
       "        text-align: right;\n",
       "    }\n",
       "</style>\n",
       "<table border=\"1\" class=\"dataframe\">\n",
       "  <thead>\n",
       "    <tr style=\"text-align: right;\">\n",
       "      <th></th>\n",
       "      <th>reviews</th>\n",
       "      <th>Book Name</th>\n",
       "      <th>polarity</th>\n",
       "      <th>subjectivity</th>\n",
       "    </tr>\n",
       "  </thead>\n",
       "  <tbody>\n",
       "    <tr>\n",
       "      <th>AF</th>\n",
       "      <td>\\n\\nTaleb seems constitutionally angry, dismis...</td>\n",
       "      <td>Antifragile</td>\n",
       "      <td>0.073900</td>\n",
       "      <td>0.473280</td>\n",
       "    </tr>\n",
       "    <tr>\n",
       "      <th>BoP</th>\n",
       "      <td>\\n\\nAphorisms Galore!If for any literary fan, ...</td>\n",
       "      <td>Bed of Procrustes</td>\n",
       "      <td>0.112661</td>\n",
       "      <td>0.503444</td>\n",
       "    </tr>\n",
       "    <tr>\n",
       "      <th>FbR</th>\n",
       "      <td>\\n\\nYeah, you see. I’ve just checked and most ...</td>\n",
       "      <td>Fooled by Randomness</td>\n",
       "      <td>0.120374</td>\n",
       "      <td>0.510264</td>\n",
       "    </tr>\n",
       "    <tr>\n",
       "      <th>SitG</th>\n",
       "      <td>\\n\\nSkin in the Game is at the same time thoug...</td>\n",
       "      <td>Skin in the Game</td>\n",
       "      <td>0.072629</td>\n",
       "      <td>0.482828</td>\n",
       "    </tr>\n",
       "    <tr>\n",
       "      <th>TBS</th>\n",
       "      <td>\\n\\nThis is a book that raises a number of ver...</td>\n",
       "      <td>The Black Swan</td>\n",
       "      <td>0.081900</td>\n",
       "      <td>0.499882</td>\n",
       "    </tr>\n",
       "  </tbody>\n",
       "</table>\n",
       "</div>"
      ],
      "text/plain": [
       "                                                reviews             Book Name  \\\n",
       "AF    \\n\\nTaleb seems constitutionally angry, dismis...           Antifragile   \n",
       "BoP   \\n\\nAphorisms Galore!If for any literary fan, ...     Bed of Procrustes   \n",
       "FbR   \\n\\nYeah, you see. I’ve just checked and most ...  Fooled by Randomness   \n",
       "SitG  \\n\\nSkin in the Game is at the same time thoug...      Skin in the Game   \n",
       "TBS   \\n\\nThis is a book that raises a number of ver...        The Black Swan   \n",
       "\n",
       "      polarity  subjectivity  \n",
       "AF    0.073900      0.473280  \n",
       "BoP   0.112661      0.503444  \n",
       "FbR   0.120374      0.510264  \n",
       "SitG  0.072629      0.482828  \n",
       "TBS   0.081900      0.499882  "
      ]
     },
     "execution_count": 2,
     "metadata": {},
     "output_type": "execute_result"
    }
   ],
   "source": [
    "# Create quick lambda functions to find the polarity and subjectivity of each routine\n",
    "from textblob import TextBlob\n",
    "\n",
    "pol = lambda x: TextBlob(x).sentiment.polarity\n",
    "sub = lambda x: TextBlob(x).sentiment.subjectivity\n",
    "\n",
    "data['polarity'] = data['reviews'].apply(pol)\n",
    "data['subjectivity'] = data['reviews'].apply(sub)\n",
    "data"
   ]
  },
  {
   "cell_type": "code",
   "execution_count": 4,
   "metadata": {
    "ExecuteTime": {
     "end_time": "2020-09-10T21:40:13.644593Z",
     "start_time": "2020-09-10T21:40:13.399389Z"
    }
   },
   "outputs": [
    {
     "data": {
      "image/png": "[encoded data removed]",
      "text/plain": [
       "<Figure size 720x576 with 1 Axes>"
      ]
     },
     "metadata": {
      "needs_background": "light"
     },
     "output_type": "display_data"
    }
   ],
   "source": [
    "# Let's plot the results\n",
    "import matplotlib.pyplot as plt\n",
    "\n",
    "plt.rcParams['figure.figsize'] = [10, 8]\n",
    "\n",
    "for index, book_reviews in enumerate(data.index):\n",
    "    x = data.polarity.loc[book_reviews]\n",
    "    y = data.subjectivity.loc[book_reviews]\n",
    "    plt.scatter(x, y, color='blue')\n",
    "    plt.text(x+.001, y+.001, data['Book Name'][index], fontsize=10)\n",
    "    plt.xlim(-.01, 0.14) \n",
    "    \n",
    "plt.title('Sentiment Analysis', fontsize=20)\n",
    "plt.xlabel('<-- Negative -------- Positive -->', fontsize=15)\n",
    "plt.ylabel('<-- Facts -------- Opinions -->', fontsize=15)\n",
    "\n",
    "plt.show()"
   ]
  },
  {
   "cell_type": "markdown",
   "metadata": {
    "ExecuteTime": {
     "end_time": "2020-09-08T17:42:25.787046Z",
     "start_time": "2020-09-08T17:42:25.768711Z"
    }
   },
   "source": [
    "#### Findings:\n",
    "\n",
    "- On one hand, the polarity for Skin in the Game and Antifragile reviews are more neutral than Fooled by Randomness and The Bed of Procrustes reviews, which seem to be the most positive ones. The Black Swan is in the middle.\n",
    "- On the other hand, the subjectivity for The Black Swan, The Bed of Procrustes and Fooled by Randomness are way more opinionated than Skin in the Game and Antifragile reviews.\n",
    "\n",
    "The sentiment analysis might also make more sense by focusing on reviews of a single book one by one."
   ]
  },
  {
   "cell_type": "markdown",
   "metadata": {},
   "source": [
    "## END OF NOTEBOOK III"
   ]
  }
 ],
 "metadata": {
  "hide_input": false,
  "kernelspec": {
   "display_name": "Python 3",
   "language": "python",
   "name": "python3"
  },
  "language_info": {
   "codemirror_mode": {
    "name": "ipython",
    "version": 3
   },
   "file_extension": ".py",
   "mimetype": "text/x-python",
   "name": "python",
   "nbconvert_exporter": "python",
   "pygments_lexer": "ipython3",
   "version": "3.7.3"
  },
  "varInspector": {
   "cols": {
    "lenName": 16,
    "lenType": 16,
    "lenVar": 40
   },
   "kernels_config": {
    "python": {
     "delete_cmd_postfix": "",
     "delete_cmd_prefix": "del ",
     "library": "var_list.py",
     "varRefreshCmd": "print(var_dic_list())"
    },
    "r": {
     "delete_cmd_postfix": ") ",
     "delete_cmd_prefix": "rm(",
     "library": "var_list.r",
     "varRefreshCmd": "cat(var_dic_list()) "
    }
   },
   "types_to_exclude": [
    "module",
    "function",
    "builtin_function_or_method",
    "instance",
    "_Feature"
   ],
   "window_display": false
  }
 },
 "nbformat": 4,
 "nbformat_minor": 2
}
